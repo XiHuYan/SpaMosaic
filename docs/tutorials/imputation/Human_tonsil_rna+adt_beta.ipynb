{
 "cells": [
  {
   "cell_type": "markdown",
   "id": "4122ea83-6356-4371-9c16-5af442682e6c",
   "metadata": {},
   "source": [
    "# Impute Protein from RNA (Tonsil dataset)"
   ]
  },
  {
   "cell_type": "markdown",
   "id": "e1d60727-ccbe-4287-b3a5-421a2f89f913",
   "metadata": {},
   "source": [
    "In this notebook, we used SpaMosaic to impute the missing protein expressions in a tonsillar dataset. The dataset consists of three sections, all measured by 10x Genomics Visium RNA and protein co-profiling technology. We removed the protein data from the first section, trained SpaMosaic on the modified dataset, and then imputed the protein expression for the first section based on RNA. \n",
    "\n",
    "Data used in this notebook can be downloaded from [google drive](https://drive.google.com/drive/folders/1ZeZr0Y2LQPnclFSm7JVqE6hZerXb7RF5?usp=drive_link)."
   ]
  },
  {
   "cell_type": "code",
   "execution_count": 1,
   "id": "493ed6d0-97e1-4108-84dd-2ee6b1ee7732",
   "metadata": {},
   "outputs": [],
   "source": [
    "import os\n",
    "import numpy as np\n",
    "import scanpy as sc\n",
    "import scipy.sparse as sps\n",
    "from os.path import join\n",
    "\n",
    "import sys\n",
    "sys.path.insert(0, '..')\n",
    "\n",
    "from spamosaic.framework import SpaMosaic"
   ]
  },
  {
   "cell_type": "markdown",
   "id": "191dff58-648f-4781-bea7-f976037bda9f",
   "metadata": {},
   "source": [
    "To use the mclust clustering algorithm, we manually set the `R` and `rpy2` path here."
   ]
  },
  {
   "cell_type": "code",
   "execution_count": 2,
   "id": "6f220a44-cd1a-4a24-b71f-7f3e08acec8c",
   "metadata": {},
   "outputs": [],
   "source": [
    "os.environ['R_HOME'] = '/disco_500t/xuhua/miniforge3/envs/Seurat5/lib/R'\n",
    "os.environ['R_USER'] = '/disco_500t/xuhua/miniforge3/envs/Seurat5/lib/python3.8/site-packages/rpy2'\n",
    "os.environ['CUBLAS_WORKSPACE_CONFIG'] = ':4096:8'  # for CuBLAS operation and you have CUDA >= 10.2\n",
    "import spamosaic.utils as utls\n",
    "from spamosaic.preprocessing import RNA_preprocess, ADT_preprocess, Epigenome_preprocess\n",
    "import spamosaic.metrics as eval"
   ]
  },
  {
   "cell_type": "code",
   "execution_count": 3,
   "id": "a4f810d9-e9ae-48cf-bcff-b0e9d182da99",
   "metadata": {},
   "outputs": [],
   "source": [
    "ad1_rna = sc.read_h5ad('./s1_adata_rna.h5ad')\n",
    "ad1_adt = sc.read_h5ad('./s1_adata_adt.h5ad')\n",
    "ad2_rna = sc.read_h5ad('./s2_adata_rna.h5ad')\n",
    "ad2_adt = sc.read_h5ad('./s2_adata_adt.h5ad')\n",
    "ad3_rna = sc.read_h5ad('./s3_adata_rna.h5ad')\n",
    "ad3_adt = sc.read_h5ad('./s3_adata_adt.h5ad')"
   ]
  },
  {
   "cell_type": "markdown",
   "id": "c4b1a84d-2a93-4b28-9faa-bd1aa2d0aa8d",
   "metadata": {},
   "source": [
    "### 1st-fold cv (cross validation)"
   ]
  },
  {
   "cell_type": "markdown",
   "id": "528b70a8-b34d-4e76-9806-e9c3f1a8fab4",
   "metadata": {},
   "source": [
    "Similar to integration, SpaMosaic performs modality alignment first and then imputes the missing modality profiles based on the modal-aligned latent space. Also, SpaMosaic requires the input dataset in the following format:\n",
    "``` Python\n",
    "{\n",
    "    'rna':      [adata1_rna, adata2_rna,   None,         adata4_rna, ...],\n",
    "    'protein':  [adata1_adt, None,         adata3_adt,   None,       ...],\n",
    "    'atac':     [None,       adata2_atac,  None,         None,       ...],\n",
    "    'histone':  [None,       None      ,   adata3_hist,  None,       ...],\n",
    "    ...\n",
    "}\n",
    "```\n",
    "\n",
    "In the dictionary, each key represents a modality and each modality key corresponds to list of `anndata` objects. Each `anndata` object contains modality-specific information for a particular section. For example, the first object `adata1_rna` under the 'rna' key holds the RNA profiles for the first section, while the first object `adata1_adt` under the 'protein' key holds protein profiles for the same section. If a section is not measured for a particular modality, its value in the list is `None`. For instance, the first element under the 'atac' and 'histone' keys is `None`, indicating that the first section was not measured with ATAC or histone modality. All lists have the same length, which corresponds to the number of sections in the target dataset.\n",
    "\n",
    "\n",
    "SpaMosaic requires the modalities in a mosaic dataset to be directly or indirectly connected through one or multiple sections. If a pair of modalities occur in the same section, there is a direct connection between this pair of modalities, while an indirect connection requires multiple intermediary direct connections. \n",
    "\n",
    "SpaMosaic will automatically impute all the missing profiles in the input. "
   ]
  },
  {
   "cell_type": "code",
   "execution_count": 4,
   "id": "fe1af963-50a3-44b4-9abc-8e401c071168",
   "metadata": {},
   "outputs": [],
   "source": [
    "input_dict = {\n",
    "    'rna': [ad1_rna, ad2_rna, ad3_rna],\n",
    "    'adt': [None,    ad2_adt, ad3_adt]\n",
    "}\n",
    "\n",
    "input_key = 'dimred_bc'"
   ]
  },
  {
   "cell_type": "code",
   "execution_count": 5,
   "id": "c535c70c-942f-4506-9197-520ad2b4b96f",
   "metadata": {},
   "outputs": [
    {
     "name": "stdout",
     "output_type": "stream",
     "text": [
      "Use GPU mode.\n",
      "\tInitialization is completed.\n",
      "\tCompleted 1 / 10 iteration(s).\n",
      "\tCompleted 2 / 10 iteration(s).\n",
      "\tCompleted 3 / 10 iteration(s).\n",
      "\tCompleted 4 / 10 iteration(s).\n",
      "\tCompleted 5 / 10 iteration(s).\n",
      "Reach convergence after 5 iteration(s).\n",
      "Use GPU mode.\n",
      "\tInitialization is completed.\n",
      "\tCompleted 1 / 10 iteration(s).\n",
      "\tCompleted 2 / 10 iteration(s).\n",
      "\tCompleted 3 / 10 iteration(s).\n",
      "Reach convergence after 3 iteration(s).\n"
     ]
    }
   ],
   "source": [
    "RNA_preprocess(input_dict['rna'], batch_corr=True, favor='scanpy', n_hvg=5000, batch_key='src', key=input_key)\n",
    "ADT_preprocess(input_dict['adt'], batch_corr=True, batch_key='src', key=input_key)"
   ]
  },
  {
   "cell_type": "markdown",
   "id": "a4e7b23d-3db1-4cb4-a1a1-9e7ddaf38e09",
   "metadata": {},
   "source": [
    "### training"
   ]
  },
  {
   "cell_type": "markdown",
   "id": "afbd4b8d-0260-49c4-a01c-354dbee8fa18",
   "metadata": {},
   "source": [
    "SpaMosaic employs modality-specific graph neural networks to embed each modality's input into latent space. In mosaic integration, a section may contain one or multiple modalities, resulting in one or multiple sets of embeddings per section.\"\n",
    "\n",
    "The crucial parameters include:\n",
    "- `intra_knn`: how many nearest neighbors to consider when searching for spatial neighbors within the same section\n",
    "- `inter_knn`: how many nearest neighbors to consider when searching for mutual nearest neighbors between sections\n",
    "- `w_g`: the weight for spatial-adjacency graph, `1-w_g` is the weight for expression-adjacency graph\n",
    "\n",
    "for training:\n",
    "- `net`: which graph neural network to use (only support wlgcn now)\n",
    "- `lr`: learning rate\n",
    "- `T`: temperature parameter for contrastive learning\n",
    "- `n_epochs`: number of training epochs"
   ]
  },
  {
   "cell_type": "code",
   "execution_count": 6,
   "id": "1c23bab7-791d-43d4-9e1f-a5fe97b4e17f",
   "metadata": {
    "scrolled": true
   },
   "outputs": [
    {
     "name": "stdout",
     "output_type": "stream",
     "text": [
      "batch0: ['rna']\n",
      "batch1: ['rna', 'adt']\n",
      "batch2: ['rna', 'adt']\n",
      "------Calculating spatial graph...\n",
      "The graph contains 8674 edges, 4337 cells.\n",
      "2.0000 neighbors per cell on average.\n",
      "------Calculating spatial graph...\n",
      "The graph contains 9038 edges, 4519 cells.\n",
      "2.0000 neighbors per cell on average.\n",
      "------Calculating spatial graph...\n",
      "The graph contains 9042 edges, 4521 cells.\n",
      "2.0000 neighbors per cell on average.\n",
      "------Calculating spatial graph...\n",
      "The graph contains 9038 edges, 4519 cells.\n",
      "2.0000 neighbors per cell on average.\n",
      "------Calculating spatial graph...\n",
      "The graph contains 9042 edges, 4521 cells.\n",
      "2.0000 neighbors per cell on average.\n",
      "Number of mnn pairs for rna:6092\n",
      "Number of mnn pairs for adt:1501\n"
     ]
    },
    {
     "name": "stderr",
     "output_type": "stream",
     "text": [
      "100%|█████████████████████████████████████████| 100/100 [00:06<00:00, 15.15it/s]\n"
     ]
    }
   ],
   "source": [
    "model = SpaMosaic(\n",
    "    modBatch_dict=input_dict, input_key=input_key,\n",
    "    batch_key='src', intra_knn=2, inter_knn=2, w_g=0.8, \n",
    "    seed=1234, \n",
    "    device='cuda:0'\n",
    ")\n",
    "\n",
    "model.train(net='wlgcn', lr=0.01, T=0.01, n_epochs=100)"
   ]
  },
  {
   "cell_type": "markdown",
   "id": "e00fb8f9-d10c-42a9-827b-23094d35df35",
   "metadata": {},
   "source": [
    "### inference\n",
    "\n",
    "After training, SpaMosaic can infer the modality-specific embedding for each section. These embeddings will be directly saved in original `anndata` objects. For example, the RNA-specific embeddings can be accessed by `ad1_rna.obsm['emb']`, `ad2_rna.obsm['emb']`, ... . The protein-specific embeddings can be accessed by `ad2_adt.obsm['emb']`, `ad3_adt.obsm['emb']`."
   ]
  },
  {
   "cell_type": "code",
   "execution_count": 7,
   "id": "77a3bb9a-8b1c-4fef-8007-c6cdb42fab0b",
   "metadata": {},
   "outputs": [],
   "source": [
    "ad_embs = model.infer_emb(input_dict, emb_key='emb', final_latent_key='merged_emb')"
   ]
  },
  {
   "cell_type": "markdown",
   "id": "5a68b4d8-b0b5-4d64-b009-b25de24f8ba2",
   "metadata": {},
   "source": [
    "### imputation"
   ]
  },
  {
   "cell_type": "markdown",
   "id": "142cdc2c-5317-44bb-9ec9-8e8e63f4760d",
   "metadata": {},
   "source": [
    "SpaMosaic employs a kNN-based strategy for imputation. One of its key advantages is that, after obtaining the modality-aligned latent space, SpaMosaic can directly impute multiple types of assays—such as peak counts, gene activity scores (GAS), and chromatin silence scores (CSS)—without the need to train multiple regression models.\n",
    "\n",
    "Since SpaMosaic performs imputation by aggregating the measured profiles from other sections, we need to specify the reference assays in the `.layers` for each reference anndata object. For example, we aim to impute the missing protein expressions for the first section and then we set the `.layers['counts']` as the raw protein counts data for `ad2_adt` and `ad3_adt`. Note that even though RNA imputation is not required in this notebook, it is still necessary to specify the `.layers['counts']` for each rna anndata object. "
   ]
  },
  {
   "cell_type": "code",
   "execution_count": 8,
   "id": "25c80733-8fe7-49b9-bd8d-e5df5bc56aef",
   "metadata": {},
   "outputs": [],
   "source": [
    "for mod, ads in input_dict.items():\n",
    "    for ad in ads:\n",
    "        if ad is not None:\n",
    "            ad.layers['counts'] = ad.X.copy()  # set targeting layers"
   ]
  },
  {
   "cell_type": "code",
   "execution_count": 9,
   "id": "d7875d64-f8bf-4c7e-8ade-7027cc1384bd",
   "metadata": {},
   "outputs": [
    {
     "name": "stdout",
     "output_type": "stream",
     "text": [
      "impute adt-counts for batch-1\n"
     ]
    }
   ],
   "source": [
    "imputed_featureDict = model.impute(input_dict, emb_key='emb', layer_key='counts', imp_knn=10)\n",
    "\n",
    "# format of imputed_featureDict\n",
    "# {\n",
    "#     'rna':  [None, None, None],\n",
    "#     'adt': [array, None, None]\n",
    "# }"
   ]
  },
  {
   "cell_type": "markdown",
   "id": "6462adae-57c8-4d30-8f09-e3c8231859e7",
   "metadata": {},
   "source": [
    "### evaluation"
   ]
  },
  {
   "cell_type": "markdown",
   "id": "e04bad78-71ba-4b4c-88c3-d05dc3568b02",
   "metadata": {},
   "source": [
    "PCC metric"
   ]
  },
  {
   "cell_type": "code",
   "execution_count": 10,
   "id": "2a73dcfd-68d0-4d68-ae94-9023b47fe6df",
   "metadata": {},
   "outputs": [],
   "source": [
    "gt_X = ad1_adt.X\n",
    "pr_X = imputed_featureDict['adt'][0]  # # take the imputed assay data\n",
    "\n",
    "gt_X  = gt_X.A if sps.issparse(gt_X) else gt_X\n",
    "pr_X  = pr_X.A if sps.issparse(pr_X) else pr_X\n",
    "\n",
    "pcc_cell, pcc_adt = eval.PCCs(gt_X, pr_X)"
   ]
  },
  {
   "cell_type": "code",
   "execution_count": 11,
   "id": "7a1844a7-508b-480c-9fa7-1e4e962308ce",
   "metadata": {},
   "outputs": [
    {
     "data": {
      "text/plain": [
       "(0.9184238313142341, 0.5492526181686254)"
      ]
     },
     "execution_count": 11,
     "metadata": {},
     "output_type": "execute_result"
    }
   ],
   "source": [
    "np.mean(pcc_cell), np.mean(pcc_adt)"
   ]
  },
  {
   "cell_type": "markdown",
   "id": "d97950b3-fbea-4840-b7f1-71167668744f",
   "metadata": {},
   "source": [
    "CMD metric"
   ]
  },
  {
   "cell_type": "code",
   "execution_count": 12,
   "id": "7af9da77-fdcb-4d76-a00b-0aff4d052659",
   "metadata": {},
   "outputs": [],
   "source": [
    "cmd_cell = eval.CMD(pr_X, gt_X)\n",
    "cmd_adt = eval.CMD(pr_X.T, gt_X.T)"
   ]
  },
  {
   "cell_type": "code",
   "execution_count": 13,
   "id": "0e9b995d-a7e5-4993-867c-cf790b01dbee",
   "metadata": {},
   "outputs": [
    {
     "data": {
      "text/plain": [
       "(0.012974150288178277, 0.13143264887369877)"
      ]
     },
     "execution_count": 13,
     "metadata": {},
     "output_type": "execute_result"
    }
   ],
   "source": [
    "cmd_cell, cmd_adt"
   ]
  },
  {
   "cell_type": "code",
   "execution_count": null,
   "id": "eb5de81f-66e2-4e57-b49c-325d9678165c",
   "metadata": {},
   "outputs": [],
   "source": []
  }
 ],
 "metadata": {
  "kernelspec": {
   "display_name": "Python 3 (ipykernel)",
   "language": "python",
   "name": "python3"
  },
  "language_info": {
   "codemirror_mode": {
    "name": "ipython",
    "version": 3
   },
   "file_extension": ".py",
   "mimetype": "text/x-python",
   "name": "python",
   "nbconvert_exporter": "python",
   "pygments_lexer": "ipython3",
   "version": "3.12.4"
  }
 },
 "nbformat": 4,
 "nbformat_minor": 5
}
