{
 "cells": [
  {
   "cell_type": "code",
   "execution_count": 1,
   "id": "493ed6d0-97e1-4108-84dd-2ee6b1ee7732",
   "metadata": {},
   "outputs": [],
   "source": [
    "import os\n",
    "import scanpy as sc\n",
    "import scipy.sparse as sps\n",
    "from os.path import join\n",
    "\n",
    "import sys\n",
    "sys.path.insert(0, '..')\n",
    "\n",
    "from spamosaic.framework import SpaMosaic"
   ]
  },
  {
   "cell_type": "code",
   "execution_count": 2,
   "id": "6f220a44-cd1a-4a24-b71f-7f3e08acec8c",
   "metadata": {},
   "outputs": [],
   "source": [
    "os.environ['R_HOME'] = '/disco_500t/xuhua/miniforge3/envs/Seurat5/lib/R'\n",
    "os.environ['R_USER'] = '/disco_500t/xuhua/miniforge3/envs/Seurat5/lib/python3.8/site-packages/rpy2'\n",
    "os.environ['CUBLAS_WORKSPACE_CONFIG'] = ':4096:8'  # for CuBLAS operation and you have CUDA >= 10.2\n",
    "import spamosaic.utils as utls\n",
    "from spamosaic.preprocessing import RNA_preprocess, ADT_preprocess, Epigenome_preprocess\n",
    "import spamosaic.metrics as eval"
   ]
  },
  {
   "cell_type": "code",
   "execution_count": 3,
   "id": "a4f810d9-e9ae-48cf-bcff-b0e9d182da99",
   "metadata": {},
   "outputs": [],
   "source": [
    "data_dir = '/home/xuhua/xuhua_disco/gitrepo/BridgeNorm/SpaMosaic-release/data/imputation/Mouse_postnatal_brain'\n",
    "\n",
    "ad1_rna = sc.read_h5ad(join(data_dir, 'Slice1/s1_adata_rna.h5ad'))\n",
    "ad1_atac = sc.read_h5ad(join(data_dir, 'Slice1/s1_adata_atac.h5ad'))\n",
    "ad2_rna = sc.read_h5ad(join(data_dir, 'Slice2/s2_adata_rna.h5ad'))\n",
    "ad2_atac = sc.read_h5ad(join(data_dir, 'Slice2/s2_adata_atac.h5ad'))\n",
    "ad3_rna = sc.read_h5ad(join(data_dir, 'Slice3/s3_adata_rna.h5ad'))\n",
    "ad3_atac = sc.read_h5ad(join(data_dir, 'Slice3/s3_adata_atac.h5ad'))"
   ]
  },
  {
   "cell_type": "markdown",
   "id": "07f5adcc-66c6-4dc3-8f57-042357e10134",
   "metadata": {},
   "source": [
    "### 1st-fold cv (cross validation)"
   ]
  },
  {
   "cell_type": "code",
   "execution_count": 4,
   "id": "fe1af963-50a3-44b4-9abc-8e401c071168",
   "metadata": {},
   "outputs": [],
   "source": [
    "input_dict = {\n",
    "    'rna':  [ad1_rna, ad2_rna,  ad3_rna],\n",
    "    'atac': [None,    ad2_atac, ad3_atac]\n",
    "}\n",
    "\n",
    "input_key = 'dimred_bc'"
   ]
  },
  {
   "cell_type": "code",
   "execution_count": 5,
   "id": "c535c70c-942f-4506-9197-520ad2b4b96f",
   "metadata": {},
   "outputs": [
    {
     "name": "stdout",
     "output_type": "stream",
     "text": [
      "Use GPU mode.\n",
      "\tInitialization is completed.\n",
      "\tCompleted 1 / 10 iteration(s).\n",
      "\tCompleted 2 / 10 iteration(s).\n",
      "\tCompleted 3 / 10 iteration(s).\n",
      "Reach convergence after 3 iteration(s).\n",
      "Use GPU mode.\n",
      "\tInitialization is completed.\n",
      "\tCompleted 1 / 10 iteration(s).\n",
      "\tCompleted 2 / 10 iteration(s).\n",
      "\tCompleted 3 / 10 iteration(s).\n",
      "\tCompleted 4 / 10 iteration(s).\n",
      "Reach convergence after 4 iteration(s).\n"
     ]
    }
   ],
   "source": [
    "RNA_preprocess(input_dict['rna'], batch_corr=True, n_hvg=5000, batch_key='src', key=input_key)\n",
    "hvp_name, hvp_idx = Epigenome_preprocess(input_dict['atac'], batch_corr=True, n_peak=50000, batch_key='src', key=input_key, return_hvf=True)"
   ]
  },
  {
   "cell_type": "markdown",
   "id": "a4e7b23d-3db1-4cb4-a1a1-9e7ddaf38e09",
   "metadata": {},
   "source": [
    "### training"
   ]
  },
  {
   "cell_type": "code",
   "execution_count": 6,
   "id": "1c23bab7-791d-43d4-9e1f-a5fe97b4e17f",
   "metadata": {
    "scrolled": true
   },
   "outputs": [
    {
     "name": "stdout",
     "output_type": "stream",
     "text": [
      "batch0: ['rna']\n",
      "batch1: ['rna', 'atac']\n",
      "batch2: ['rna', 'atac']\n",
      "------Calculating spatial graph...\n",
      "The graph contains 23720 edges, 2372 cells.\n",
      "10.0000 neighbors per cell on average.\n",
      "------Calculating spatial graph...\n",
      "The graph contains 24970 edges, 2497 cells.\n",
      "10.0000 neighbors per cell on average.\n",
      "------Calculating spatial graph...\n",
      "The graph contains 92150 edges, 9215 cells.\n",
      "10.0000 neighbors per cell on average.\n",
      "------Calculating spatial graph...\n",
      "The graph contains 24970 edges, 2497 cells.\n",
      "10.0000 neighbors per cell on average.\n",
      "------Calculating spatial graph...\n",
      "The graph contains 92150 edges, 9215 cells.\n",
      "10.0000 neighbors per cell on average.\n",
      "Number of mnn pairs for rna:15799\n",
      "Number of mnn pairs for atac:10046\n"
     ]
    },
    {
     "name": "stderr",
     "output_type": "stream",
     "text": [
      "100%|█████████████████████████████████████████| 100/100 [00:06<00:00, 16.33it/s]\n"
     ]
    }
   ],
   "source": [
    "model = SpaMosaic(\n",
    "    modBatch_dict=input_dict, input_key=input_key,\n",
    "    batch_key='src', intra_knn=10, inter_knn=10, w_g=0.8, \n",
    "    seed=1234, \n",
    "    device='cuda:0'\n",
    ")\n",
    "\n",
    "model.train(net='wlgcn', lr=0.01, T=0.01, n_epochs=100)"
   ]
  },
  {
   "cell_type": "code",
   "execution_count": 7,
   "id": "77a3bb9a-8b1c-4fef-8007-c6cdb42fab0b",
   "metadata": {},
   "outputs": [],
   "source": [
    "ad_embs = model.infer_emb(input_dict, emb_key='emb', final_latent_key='merged_emb')"
   ]
  },
  {
   "cell_type": "markdown",
   "id": "196f3dec-a7d3-4bf9-b32d-734e2e17193e",
   "metadata": {},
   "source": [
    "### imputation"
   ]
  },
  {
   "cell_type": "code",
   "execution_count": 8,
   "id": "218ac383-5174-4d21-b0cc-0d7f31cc43a8",
   "metadata": {},
   "outputs": [],
   "source": [
    "for mod, ads in input_dict.items():\n",
    "    for ad in ads:\n",
    "        if ad is not None:\n",
    "            ad.layers['counts'] = ad.X.copy()  # set targeting layers"
   ]
  },
  {
   "cell_type": "code",
   "execution_count": 9,
   "id": "4a705edc-a9d7-4b49-85bf-b176cbe95398",
   "metadata": {},
   "outputs": [
    {
     "name": "stdout",
     "output_type": "stream",
     "text": [
      "impute atac-counts for batch-1\n"
     ]
    }
   ],
   "source": [
    "imputed_featureDict = model.impute(input_dict, emb_key='emb', layer_key='counts', imp_knn=10)\n",
    "\n",
    "# format of imputed_featureDict\n",
    "# {\n",
    "#     'rna':  [None, None, None],\n",
    "#     'atac': [array, None, None]\n",
    "# }"
   ]
  },
  {
   "cell_type": "markdown",
   "id": "b1ad94d3-f50c-4d7e-b42e-7f3eb764559c",
   "metadata": {},
   "source": [
    "### evaluation"
   ]
  },
  {
   "cell_type": "code",
   "execution_count": 10,
   "id": "c91d0c0c-fd22-4556-a5af-a1e1052b77a9",
   "metadata": {},
   "outputs": [
    {
     "data": {
      "text/plain": [
       "0.803555246513297"
      ]
     },
     "execution_count": 10,
     "metadata": {},
     "output_type": "execute_result"
    }
   ],
   "source": [
    "gt_X = ad1_atac.X\n",
    "pr_X = imputed_featureDict['atac'][0]\n",
    "\n",
    "gt_X = gt_X.A if sps.issparse(gt_X) else gt_X\n",
    "pr_X = pr_X.A if sps.issparse(pr_X) else pr_X\n",
    "gt_X = gt_X[:, hvp_idx].copy()\n",
    "pr_X = pr_X[:, hvp_idx].copy()\n",
    "\n",
    "auc = eval.eval_AUC_all(gt_X, pr_X, bin_thr=1)\n",
    "auc"
   ]
  },
  {
   "cell_type": "code",
   "execution_count": 11,
   "id": "8cc5e7d1-cb82-489a-af60-9849a5d9a0d6",
   "metadata": {},
   "outputs": [
    {
     "data": {
      "text/plain": [
       "0.9839390106768231"
      ]
     },
     "execution_count": 11,
     "metadata": {},
     "output_type": "execute_result"
    }
   ],
   "source": [
    "Epigenome_preprocess([ad1_atac], batch_corr=False, n_peak=50000, key='dimred')\n",
    "smoothed_gt_X = eval.knn_smoothing(ad1_atac, hvf_name=hvp_name, dim_red_key='dimred', knn=50)\n",
    "\n",
    "auc = eval.eval_AUC_all(smoothed_gt_X, pr_X, bin_thr=1)\n",
    "auc"
   ]
  }
 ],
 "metadata": {
  "kernelspec": {
   "display_name": "Squidpy",
   "language": "python",
   "name": "squidpy"
  },
  "language_info": {
   "codemirror_mode": {
    "name": "ipython",
    "version": 3
   },
   "file_extension": ".py",
   "mimetype": "text/x-python",
   "name": "python",
   "nbconvert_exporter": "python",
   "pygments_lexer": "ipython3",
   "version": "3.8.8"
  }
 },
 "nbformat": 4,
 "nbformat_minor": 5
}
