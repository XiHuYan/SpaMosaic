{
 "cells": [
  {
   "cell_type": "markdown",
   "id": "ec193356-ecb2-468c-add5-55e37f8f114e",
   "metadata": {},
   "source": [
    "# Impute ATAC from RNA (Mouse brain dataset)"
   ]
  },
  {
   "cell_type": "markdown",
   "id": "02cdebec-5646-4d22-9539-bbe41c401e2c",
   "metadata": {},
   "source": [
    "In this notebook, we used SpaMosaic to impute the missing ATAC peak assays in a postnatal mouse brain dataset. The dataset consists of three sections, all measured with both RNA and ATAC profiles. We removed the ATAC profiles from the first section, trained SpaMosaic on the modified dataset, and then imputed the ATAC peak data for the first section based on RNA. \n",
    "\n",
    "Data used in this notebook can be downloaded from [google drive](https://drive.google.com/drive/folders/1GyOvHxweRYrq8Hiq5OdKhfSowUfcMoXY?usp=drive_link)."
   ]
  },
  {
   "cell_type": "code",
   "execution_count": 1,
   "id": "493ed6d0-97e1-4108-84dd-2ee6b1ee7732",
   "metadata": {},
   "outputs": [],
   "source": [
    "import os\n",
    "import scanpy as sc\n",
    "import scipy.sparse as sps\n",
    "from os.path import join\n",
    "\n",
    "import sys\n",
    "sys.path.insert(0, '..')\n",
    "\n",
    "from spamosaic.framework import SpaMosaic"
   ]
  },
  {
   "cell_type": "markdown",
   "id": "cdf87ed7-36d0-4a74-b55b-2cb138cceb74",
   "metadata": {},
   "source": [
    "To use the mclust clustering algorithm, we manually set the `R` and `rpy2` path here."
   ]
  },
  {
   "cell_type": "code",
   "execution_count": 2,
   "id": "6f220a44-cd1a-4a24-b71f-7f3e08acec8c",
   "metadata": {},
   "outputs": [],
   "source": [
    "os.environ['R_HOME'] = '/disco_500t/xuhua/miniforge3/envs/Seurat5/lib/R'\n",
    "os.environ['R_USER'] = '/disco_500t/xuhua/miniforge3/envs/Seurat5/lib/python3.8/site-packages/rpy2'\n",
    "os.environ['CUBLAS_WORKSPACE_CONFIG'] = ':4096:8'  # for CuBLAS operation and you have CUDA >= 10.2\n",
    "import spamosaic.utils as utls\n",
    "from spamosaic.preprocessing import RNA_preprocess, ADT_preprocess, Epigenome_preprocess\n",
    "import spamosaic.metrics as eval"
   ]
  },
  {
   "cell_type": "code",
   "execution_count": 3,
   "id": "a4f810d9-e9ae-48cf-bcff-b0e9d182da99",
   "metadata": {},
   "outputs": [],
   "source": [
    "ad1_rna  = sc.read_h5ad('./s1_adata_rna.h5ad')\n",
    "ad1_atac = sc.read_h5ad('./s1_adata_atac.h5ad')\n",
    "ad2_rna  = sc.read_h5ad('./s2_adata_rna.h5ad')\n",
    "ad2_atac = sc.read_h5ad('./s2_adata_atac.h5ad')\n",
    "ad3_rna  = sc.read_h5ad('./s3_adata_rna.h5ad')\n",
    "ad3_atac = sc.read_h5ad('./s3_adata_atac.h5ad')"
   ]
  },
  {
   "cell_type": "markdown",
   "id": "07f5adcc-66c6-4dc3-8f57-042357e10134",
   "metadata": {},
   "source": [
    "### 1st-fold cv (cross validation)"
   ]
  },
  {
   "attachments": {},
   "cell_type": "markdown",
   "id": "550c2b19-13ba-4fa3-971d-3d1ebe66e893",
   "metadata": {},
   "source": [
    "Similar to integration, SpaMosaic performs modality alignment first and then imputes the missing modality profiles based on the modal-aligned latent space. Also, SpaMosaic requires the input dataset in the following format:\n",
    "``` Python\n",
    "{\n",
    "    'rna':      [adata1_rna, adata2_rna,   None,         adata4_rna, ...],\n",
    "    'protein':  [adata1_adt, None,         adata3_adt,   None,       ...],\n",
    "    'atac':     [None,       adata2_atac,  None,         None,       ...],\n",
    "    'histone':  [None,       None      ,   adata3_hist,  None,       ...],\n",
    "    ...\n",
    "}\n",
    "```\n",
    "\n",
    "In the dictionary, each key represents a modality and each modality key corresponds to list of `anndata` objects. Each `anndata` object contains modality-specific information for a particular section. For example, the first object `adata1_rna` under the 'rna' key holds the RNA profiles for the first section, while the first object `adata1_adt` under the 'protein' key holds protein profiles for the same section. If a section is not measured for a particular modality, its value in the list is `None`. For instance, the first element under the 'atac' and 'histone' keys is `None`, indicating that the first section was not measured with ATAC or histone modality. All lists have the same length, which corresponds to the number of sections in the target dataset.\n",
    "\n",
    "\n",
    "SpaMosaic requires the modalities in a mosaic dataset to be directly or indirectly connected through one or multiple sections. If a pair of modalities occur in the same section, there is a direct connection between this pair of modalities, while an indirect connection requires multiple intermediary direct connections. \n",
    "\n",
    "SpaMosaic will automatically impute all the missing profiles in the input. "
   ]
  },
  {
   "cell_type": "code",
   "execution_count": 4,
   "id": "fe1af963-50a3-44b4-9abc-8e401c071168",
   "metadata": {},
   "outputs": [],
   "source": [
    "input_dict = {\n",
    "    'rna':  [ad1_rna, ad2_rna,  ad3_rna],\n",
    "    'atac': [None,    ad2_atac, ad3_atac]\n",
    "}\n",
    "\n",
    "input_key = 'dimred_bc'"
   ]
  },
  {
   "cell_type": "code",
   "execution_count": 5,
   "id": "c535c70c-942f-4506-9197-520ad2b4b96f",
   "metadata": {},
   "outputs": [
    {
     "name": "stdout",
     "output_type": "stream",
     "text": [
      "Use GPU mode.\n",
      "\tInitialization is completed.\n",
      "\tCompleted 1 / 10 iteration(s).\n",
      "\tCompleted 2 / 10 iteration(s).\n",
      "\tCompleted 3 / 10 iteration(s).\n",
      "Reach convergence after 3 iteration(s).\n",
      "Use GPU mode.\n",
      "\tInitialization is completed.\n",
      "\tCompleted 1 / 10 iteration(s).\n",
      "\tCompleted 2 / 10 iteration(s).\n",
      "\tCompleted 3 / 10 iteration(s).\n",
      "\tCompleted 4 / 10 iteration(s).\n",
      "Reach convergence after 4 iteration(s).\n"
     ]
    }
   ],
   "source": [
    "RNA_preprocess(input_dict['rna'], batch_corr=True, n_hvg=5000, batch_key='src', key=input_key)\n",
    "hvp_name, hvp_idx = Epigenome_preprocess(input_dict['atac'], batch_corr=True, n_peak=50000, batch_key='src', key=input_key, return_hvf=True)"
   ]
  },
  {
   "cell_type": "markdown",
   "id": "a4e7b23d-3db1-4cb4-a1a1-9e7ddaf38e09",
   "metadata": {},
   "source": [
    "### training"
   ]
  },
  {
   "cell_type": "markdown",
   "id": "1db65387-c1a1-4d54-a134-487b4e4e9a63",
   "metadata": {},
   "source": [
    "SpaMosaic employs modality-specific graph neural networks to embed each modality's input into latent space. In mosaic integration, a section may contain one or multiple modalities, resulting in one or multiple sets of embeddings per section.\"\n",
    "\n",
    "The crucial parameters include:\n",
    "- `intra_knn`: how many nearest neighbors to consider when searching for spatial neighbors within the same section\n",
    "- `inter_knn`: how many nearest neighbors to consider when searching for mutual nearest neighbors between sections\n",
    "- `w_g`: the weight for spatial-adjacency graph, `1-w_g` is the weight for expression-adjacency graph\n",
    "\n",
    "for training:\n",
    "- `net`: which graph neural network to use (only support wlgcn now)\n",
    "- `lr`: learning rate\n",
    "- `T`: temperature parameter for contrastive learning\n",
    "- `n_epochs`: number of training epochs"
   ]
  },
  {
   "cell_type": "code",
   "execution_count": 6,
   "id": "1c23bab7-791d-43d4-9e1f-a5fe97b4e17f",
   "metadata": {
    "scrolled": true
   },
   "outputs": [
    {
     "name": "stdout",
     "output_type": "stream",
     "text": [
      "batch0: ['rna']\n",
      "batch1: ['rna', 'atac']\n",
      "batch2: ['rna', 'atac']\n",
      "------Calculating spatial graph...\n",
      "The graph contains 23720 edges, 2372 cells.\n",
      "10.0000 neighbors per cell on average.\n",
      "------Calculating spatial graph...\n",
      "The graph contains 24970 edges, 2497 cells.\n",
      "10.0000 neighbors per cell on average.\n",
      "------Calculating spatial graph...\n",
      "The graph contains 92150 edges, 9215 cells.\n",
      "10.0000 neighbors per cell on average.\n",
      "------Calculating spatial graph...\n",
      "The graph contains 24970 edges, 2497 cells.\n",
      "10.0000 neighbors per cell on average.\n",
      "------Calculating spatial graph...\n",
      "The graph contains 92150 edges, 9215 cells.\n",
      "10.0000 neighbors per cell on average.\n",
      "Number of mnn pairs for rna:15799\n",
      "Number of mnn pairs for atac:10046\n"
     ]
    },
    {
     "name": "stderr",
     "output_type": "stream",
     "text": [
      "100%|█████████████████████████████████████████| 100/100 [00:06<00:00, 16.33it/s]\n"
     ]
    }
   ],
   "source": [
    "model = SpaMosaic(\n",
    "    modBatch_dict=input_dict, input_key=input_key,\n",
    "    batch_key='src', intra_knn=10, inter_knn=10, w_g=0.8, \n",
    "    seed=1234, \n",
    "    device='cuda:0'\n",
    ")\n",
    "\n",
    "model.train(net='wlgcn', lr=0.01, T=0.01, n_epochs=100)"
   ]
  },
  {
   "cell_type": "markdown",
   "id": "3a98e14a-c7de-4cc3-9e88-fc668a8cc2f7",
   "metadata": {},
   "source": [
    "### inference\n",
    "\n",
    "After training, SpaMosaic can infer the modality-specific embedding for each section. These embeddings will be directly saved in original `anndata` objects. For example, the RNA-specific embeddings can be accessed by `ad1_rna.obsm['emb']`, `ad2_rna.obsm['emb']`, ... . The ATAC-specific embeddings can be accessed by `ad2_atac.obsm['emb']`, `ad3_atac.obsm['emb']`."
   ]
  },
  {
   "cell_type": "code",
   "execution_count": 7,
   "id": "77a3bb9a-8b1c-4fef-8007-c6cdb42fab0b",
   "metadata": {},
   "outputs": [],
   "source": [
    "ad_embs = model.infer_emb(input_dict, emb_key='emb', final_latent_key='merged_emb')"
   ]
  },
  {
   "cell_type": "markdown",
   "id": "196f3dec-a7d3-4bf9-b32d-734e2e17193e",
   "metadata": {},
   "source": [
    "### imputation"
   ]
  },
  {
   "cell_type": "markdown",
   "id": "c2437ab4-31c2-44f9-ade7-d5e3110afdb0",
   "metadata": {},
   "source": [
    "SpaMosaic employs a kNN-based strategy for imputation. One of its key advantages is that, after obtaining the modality-aligned latent space, SpaMosaic can directly impute multiple types of assays—such as peak counts, gene activity scores (GAS), and chromatin silence scores (CSS)—without the need to train multiple regression models.\n",
    "\n",
    "Since SpaMosaic performs imputation by aggregating the measured profiles from other sections, we need to specify the reference assays in the `.layers` for each reference anndata object. For example, we aim to impute the missing peak assays for the first section and then we set the `.layers['counts']` as the raw peak counts data for `ad2_atac` and `ad3_atac`. If to impute the GAS, we need to transform the peak counts into GAS first for the sections 2 and 3, and set the `.layers['counts']` in `ad2_atac` and `ad3_atac` as corresponding GAS data. Note that even though RNA imputation is not required in this notebook, it is still necessary to specify the `.layers['counts']` for each rna anndata object. "
   ]
  },
  {
   "cell_type": "code",
   "execution_count": 8,
   "id": "218ac383-5174-4d21-b0cc-0d7f31cc43a8",
   "metadata": {},
   "outputs": [],
   "source": [
    "for mod, ads in input_dict.items():\n",
    "    for ad in ads:\n",
    "        if ad is not None:\n",
    "            ad.layers['counts'] = ad.X.copy()  # set targeting layers"
   ]
  },
  {
   "cell_type": "code",
   "execution_count": 9,
   "id": "4a705edc-a9d7-4b49-85bf-b176cbe95398",
   "metadata": {},
   "outputs": [
    {
     "name": "stdout",
     "output_type": "stream",
     "text": [
      "impute atac-counts for batch-1\n"
     ]
    }
   ],
   "source": [
    "imputed_featureDict = model.impute(input_dict, emb_key='emb', layer_key='counts', imp_knn=10)\n",
    "\n",
    "# format of imputed_featureDict\n",
    "# {\n",
    "#     'rna':  [None, None, None],\n",
    "#     'atac': [array, None, None]\n",
    "# }"
   ]
  },
  {
   "cell_type": "markdown",
   "id": "b1ad94d3-f50c-4d7e-b42e-7f3eb764559c",
   "metadata": {},
   "source": [
    "### evaluation"
   ]
  },
  {
   "cell_type": "markdown",
   "id": "ab6c982d-b809-4d3b-9cf8-a5ec1e002859",
   "metadata": {},
   "source": [
    "AUC without smoothing"
   ]
  },
  {
   "cell_type": "code",
   "execution_count": 10,
   "id": "c91d0c0c-fd22-4556-a5af-a1e1052b77a9",
   "metadata": {},
   "outputs": [
    {
     "data": {
      "text/plain": [
       "0.803555246513297"
      ]
     },
     "execution_count": 10,
     "metadata": {},
     "output_type": "execute_result"
    }
   ],
   "source": [
    "gt_X = ad1_atac.X\n",
    "pr_X = imputed_featureDict['atac'][0]  # take the imputed assay data\n",
    "\n",
    "gt_X = gt_X.A if sps.issparse(gt_X) else gt_X\n",
    "pr_X = pr_X.A if sps.issparse(pr_X) else pr_X\n",
    "gt_X = gt_X[:, hvp_idx].copy()\n",
    "pr_X = pr_X[:, hvp_idx].copy()\n",
    "\n",
    "auc = eval.eval_AUC_all(gt_X, pr_X, bin_thr=1)  # binarize the target peak count (gt_X) with a threshold 1\n",
    "auc"
   ]
  },
  {
   "cell_type": "markdown",
   "id": "b8bf7785-f22c-42d4-88ee-25b6fded9753",
   "metadata": {},
   "source": [
    "As the peak counts of ATAC data are noisy and sparse, its direct usage in performance assessment may result in underestimation of the imputation's efficacy. Therefore, we adopted the approach of [Tal et al., Nature Method. 2023](https://www.nature.com/articles/s41592-023-01909-9) in kNN smoothing on the raw peak count matrix. Specifically, we took the top 50 principal components of the expression data and computed the kNN graph (𝐾 = 50). Thereafter, we computed the average of the neighbors' expression values for each spot. The average values were then used to calculate the spot-spot/peak-peak PCC and AUROC metrics."
   ]
  },
  {
   "cell_type": "markdown",
   "id": "efe3ab87-0c50-47d8-8d66-307a37c53548",
   "metadata": {},
   "source": [
    "AUC with knn smoothing "
   ]
  },
  {
   "cell_type": "code",
   "execution_count": 11,
   "id": "8cc5e7d1-cb82-489a-af60-9849a5d9a0d6",
   "metadata": {},
   "outputs": [
    {
     "data": {
      "text/plain": [
       "0.9839390106768231"
      ]
     },
     "execution_count": 11,
     "metadata": {},
     "output_type": "execute_result"
    }
   ],
   "source": [
    "# dimension reduction\n",
    "Epigenome_preprocess([ad1_atac], batch_corr=False, n_peak=50000, key='dimred')\n",
    "# smoothing the peak matrix\n",
    "smoothed_gt_X = eval.knn_smoothing(ad1_atac, hvf_name=hvp_name, dim_red_key='dimred', knn=50)\n",
    "\n",
    "auc = eval.eval_AUC_all(smoothed_gt_X, pr_X, bin_thr=1)\n",
    "auc"
   ]
  }
 ],
 "metadata": {
  "kernelspec": {
   "display_name": "Python 3 (ipykernel)",
   "language": "python",
   "name": "python3"
  },
  "language_info": {
   "codemirror_mode": {
    "name": "ipython",
    "version": 3
   },
   "file_extension": ".py",
   "mimetype": "text/x-python",
   "name": "python",
   "nbconvert_exporter": "python",
   "pygments_lexer": "ipython3",
   "version": "3.12.4"
  }
 },
 "nbformat": 4,
 "nbformat_minor": 5
}
